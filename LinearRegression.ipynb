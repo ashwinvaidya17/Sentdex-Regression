{
  "nbformat": 4,
  "nbformat_minor": 0,
  "metadata": {
    "colab": {
      "name": "LinearRegression",
      "version": "0.3.2",
      "provenance": []
    },
    "kernelspec": {
      "name": "python3",
      "display_name": "Python 3"
    }
  },
  "cells": [
    {
      "metadata": {
        "id": "QaT3jXP8xaP-",
        "colab_type": "text"
      },
      "cell_type": "markdown",
      "source": [
        "# Linear Regression from scratch\n",
        "Based on the tutorial by [sentdex](https://twitter.com/Sentdex).\n"
      ]
    },
    {
      "metadata": {
        "id": "yvVvluJXxXKV",
        "colab_type": "code",
        "colab": {
          "base_uri": "https://localhost:8080/",
          "height": 347
        },
        "outputId": "8309c5ad-15ed-4d9a-ecd5-be8e2890ec79"
      },
      "cell_type": "code",
      "source": [
        "from statistics import mean\n",
        "import numpy as np\n",
        "import matplotlib.pyplot as plt\n",
        "import random\n",
        "\n",
        "xs = [1, 2, 3, 4, 5, 6]\n",
        "ys = [5, 4, 6, 5, 6, 7]\n",
        "\n",
        "plt.scatter(xs, ys)\n",
        "plt.show()"
      ],
      "execution_count": 17,
      "outputs": [
        {
          "output_type": "display_data",
          "data": {
            "image/png": "[encoded data removed]",
            "text/plain": [
              "<matplotlib.figure.Figure at 0x7fb8e2b896d8>"
            ]
          },
          "metadata": {
            "tags": []
          }
        }
      ]
    },
    {
      "metadata": {
        "id": "OFGh_rHvyVIF",
        "colab_type": "code",
        "colab": {
          "base_uri": "https://localhost:8080/",
          "height": 34
        },
        "outputId": "82e92828-e8d9-4538-f44a-ef5a6847a1f8"
      },
      "cell_type": "code",
      "source": [
        "#xs = np.array([1, 2,3, 4, 5, 6], dtype=np.float64)\n",
        "#ys = np.array([5,4,6,5,6,7], dtype=np.float64)\n",
        "\n",
        "def create_dataset(hm, variance, step=2, correlation=False):\n",
        "  val = 1\n",
        "  ys = []\n",
        "  for i in range(hm):\n",
        "    y = val + random.randrange(-variance, variance)\n",
        "    ys.append(y)\n",
        "    if correlation and correlation == 'pos':\n",
        "      val += step\n",
        "    elif correlation and correaltion == 'neg':\n",
        "      val -= step\n",
        "   \n",
        "  xs = [i for i in range(len(ys))]\n",
        "  return np.array(xs, dtype=np.float64), np.array(ys, dtype=np.float64)\n",
        "    \n",
        "def best_fit_slope_and_intercept(xs,ys):\n",
        "  m = ( ((mean(xs) * mean(ys)) - mean(xs*ys)) /\n",
        "        ((mean(xs)*mean(xs)) - mean(xs * xs)))\n",
        "  b = mean(ys) - m*mean(xs)\n",
        "  return m, b\n",
        "\n",
        "m, b = best_fit_slope_and_intercept(xs, ys)\n",
        "print(m,b)"
      ],
      "execution_count": 24,
      "outputs": [
        {
          "output_type": "stream",
          "text": [
            "2.00422138836773 2.5926829268292693\n"
          ],
          "name": "stdout"
        }
      ]
    },
    {
      "metadata": {
        "id": "-kfiso6C3hdP",
        "colab_type": "code",
        "colab": {}
      },
      "cell_type": "code",
      "source": [
        "def squared_error(ys_orig, ys_line):\n",
        "  return sum((ys_orig - ys_line)**2)\n",
        "\n",
        "def coefficient_of_determination(ys_orig, ys_line):\n",
        "  y_mean_line = [mean(ys_orig) for y in ys_orig]\n",
        "  squared_error_regr = squared_error(ys_orig, ys_line)\n",
        "  squared_error_ymean = squared_error(ys_orig, y_mean_line)\n",
        "  return 1 - (squared_error_regr / squared_error_ymean)"
      ],
      "execution_count": 0,
      "outputs": []
    },
    {
      "metadata": {
        "id": "cGIkToDd8ARM",
        "colab_type": "code",
        "colab": {}
      },
      "cell_type": "code",
      "source": [
        "xs, ys = create_dataset(40, 10, 2, correlation='pos')"
      ],
      "execution_count": 0,
      "outputs": []
    },
    {
      "metadata": {
        "id": "4v_1sFKx-lnl",
        "colab_type": "code",
        "colab": {
          "base_uri": "https://localhost:8080/",
          "height": 364
        },
        "outputId": "ac34484e-4c69-4dbc-be4d-5bb5b8516929"
      },
      "cell_type": "code",
      "source": [
        "regression_line = [(m*x) + b for x in xs]\n",
        "\n",
        "r_squared = coefficient_of_determination(ys, regression_line)\n",
        "print(r_squared)\n",
        "\n",
        "plt.scatter(xs, ys)\n",
        "plt.plot(xs, regression_line)\n",
        "plt.show()"
      ],
      "execution_count": 25,
      "outputs": [
        {
          "output_type": "stream",
          "text": [
            "0.9405749071120842\n"
          ],
          "name": "stdout"
        },
        {
          "output_type": "display_data",
          "data": {
            "image/png": "[encoded data removed]",
            "text/plain": [
              "<matplotlib.figure.Figure at 0x7fb8e29d4320>"
            ]
          },
          "metadata": {
            "tags": []
          }
        }
      ]
    }
  ]
}